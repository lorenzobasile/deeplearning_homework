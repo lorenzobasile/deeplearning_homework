{
 "cells": [
  {
   "cell_type": "code",
   "execution_count": 1,
   "metadata": {},
   "outputs": [],
   "source": [
    "import torch\n",
    "from torch import nn\n",
    "import torchvision\n",
    "from torchvision import transforms\n",
    "from matplotlib import pyplot as plt\n",
    "import numpy as np"
   ]
  },
  {
   "cell_type": "markdown",
   "metadata": {},
   "source": [
    "## Homework 3 - Regularization and early stopping\n",
    "*Lorenzo Basile*\n"
   ]
  },
  {
   "cell_type": "code",
   "execution_count": 2,
   "metadata": {},
   "outputs": [],
   "source": [
    "trainset = torchvision.datasets.MNIST(\"./data/\", train = True, transform=transforms.ToTensor(), download = False)\n",
    "trainloader = torch.utils.data.DataLoader(trainset, batch_size=64, shuffle=True)\n",
    "validationset = torchvision.datasets.MNIST(\"./data/\", train = False, transform=transforms.ToTensor(), download = False)\n",
    "validationloader = torch.utils.data.DataLoader(validationset, batch_size=512, shuffle=True)"
   ]
  },
  {
   "cell_type": "code",
   "execution_count": 3,
   "metadata": {},
   "outputs": [],
   "source": [
    "class NN(torch.nn.Module):\n",
    "    def __init__(self):\n",
    "        super().__init__()\n",
    "        self.layers = nn.Sequential(\n",
    "            nn.Linear(784, 32),\n",
    "            nn.ReLU(),\n",
    "            nn.Dropout(p=.2),\n",
    "            nn.Linear(32, 64),\n",
    "            nn.ReLU(),\n",
    "            nn.Dropout(p=.2),\n",
    "            nn.Linear(64, 10)\n",
    "        )\n",
    "    def forward(self, x):\n",
    "        return (self.layers(x.view(-1,784)))\n",
    "net=NN()"
   ]
  },
  {
   "cell_type": "markdown",
   "metadata": {},
   "source": [
    "### 1, 2a\n",
    "Here the MLP is trained on MNIST dataset using L1 regularization and the simplest kind of early stopping, meaning that training is interrupted as soon as the loss on validation data exceeds by more than $\\alpha \\%$ the minimum loss up to that epoch. Each time the optimal value is updated, model parameters are saved in order to be able to restore the optimal parameters at the end of training."
   ]
  },
  {
   "cell_type": "code",
   "execution_count": 4,
   "metadata": {},
   "outputs": [
    {
     "name": "stdout",
     "output_type": "stream",
     "text": [
      "Epoch:  5 / 100\r"
     ]
    },
    {
     "data": {
      "image/png": "[encoded data removed]",
      "text/plain": [
       "<Figure size 432x288 with 1 Axes>"
      ]
     },
     "metadata": {
      "needs_background": "light"
     },
     "output_type": "display_data"
    }
   ],
   "source": [
    "optimizer = torch.optim.SGD(net.parameters(), lr=0.1)\n",
    "loss = torch.nn.CrossEntropyLoss()\n",
    "losses=[]\n",
    "lam=.001\n",
    "alpha=20\n",
    "e_opt=float('inf')\n",
    "for epoch in range(100):\n",
    "    print(\"Epoch: \", epoch, '/', 100, end='\\r')\n",
    "    net.train()\n",
    "    for x, y in trainloader:\n",
    "        out=net(x)\n",
    "        l=loss(out, y)\n",
    "        l1_norm=sum(p.abs().sum() for p in net.parameters())\n",
    "        losses.append(l)\n",
    "        l+=lam*l1_norm\n",
    "        optimizer.zero_grad()\n",
    "        l.backward()\n",
    "        optimizer.step()\n",
    "    e_va=0\n",
    "    net.eval()\n",
    "    with torch.no_grad():\n",
    "        for x, y in validationloader:\n",
    "            out=net(x)\n",
    "            e_va+=loss(out, y)\n",
    "    if e_opt>e_va:\n",
    "        e_opt=e_va\n",
    "        torch.save(net.state_dict(), \"./models/mnist.pt\")\n",
    "    gl=100*(e_va/e_opt-1)\n",
    "    if gl>alpha:\n",
    "        net.load_state_dict(torch.load(\"./models/mnist.pt\"))\n",
    "        break\n",
    "plt.plot(losses)\n",
    "plt.xlabel(\"iteration\")\n",
    "plt.ylabel(\"loss\")\n",
    "plt.show()"
   ]
  },
  {
   "cell_type": "code",
   "execution_count": 5,
   "metadata": {},
   "outputs": [
    {
     "name": "stdout",
     "output_type": "stream",
     "text": [
      "Stopped at epoch:  5\n"
     ]
    }
   ],
   "source": [
    "print(\"Stopped at epoch: \", epoch)"
   ]
  },
  {
   "cell_type": "code",
   "execution_count": 6,
   "metadata": {},
   "outputs": [
    {
     "name": "stdout",
     "output_type": "stream",
     "text": [
      "Accuracy on validation set:  0.9315\n"
     ]
    }
   ],
   "source": [
    "net.eval()\n",
    "correct=0\n",
    "with torch.no_grad():\n",
    "    for x, y in validationloader:\n",
    "        out=net(x)\n",
    "        correct+=(torch.argmax(out, axis=1)==y).sum().item()\n",
    "print(\"Accuracy on validation set: \", correct/len(validationset))"
   ]
  },
  {
   "cell_type": "markdown",
   "metadata": {},
   "source": [
    "### 2b, 3\n",
    "\n",
    "Here training is repeated using Correct-Class Quadratic Loss and a different technique for early stopping: validation loss is monitored every $k=5$ epochs and training is stopped as soon as loss increases in $s=3$ consecutive measurements.  \n",
    "The network architecture is the same as in the previous point, with the only difference that a Softmax transformation is applied on the output to obtain a probability distribution over classes.  \n",
    "For CCQL, the parameter $w$ is set to $\\sqrt{1-K}-1$, where $K$ is the number of classes, as proposed in the paper."
   ]
  },
  {
   "cell_type": "code",
   "execution_count": 7,
   "metadata": {},
   "outputs": [
    {
     "name": "stdout",
     "output_type": "stream",
     "text": [
      "Epoch:  40 / 100\r"
     ]
    },
    {
     "data": {
      "image/png": "[encoded data removed]",
      "text/plain": [
       "<Figure size 432x288 with 1 Axes>"
      ]
     },
     "metadata": {
      "needs_background": "light"
     },
     "output_type": "display_data"
    }
   ],
   "source": [
    "def CCQL(output, target, n_classes):\n",
    "    w=np.sqrt(n_classes-1)-1\n",
    "    encoded_target=nn.functional.one_hot(target, n_classes).float()\n",
    "    quadratic_loss=nn.MSELoss()\n",
    "    ql=quadratic_loss(output, encoded_target)/2\n",
    "    correction=w/2/len(target)*torch.sum(torch.stack([(1-output[i, target[i]])**2 for i in range(len(target))]))\n",
    "    return ql+correction\n",
    "\n",
    "net=NN()\n",
    "optimizer = torch.optim.SGD(net.parameters(), lr=0.1)\n",
    "loss = CCQL\n",
    "losses=[]\n",
    "lam=.001\n",
    "k=5\n",
    "s=3\n",
    "e_va=[]\n",
    "for epoch in range(100):\n",
    "    print(\"Epoch: \", epoch, '/', 100, end='\\r')\n",
    "    net.train()\n",
    "    for x, y in trainloader:\n",
    "        out=torch.nn.functional.softmax(net(x), dim=1)\n",
    "        l=loss(out, y, 10)\n",
    "        l1_norm=sum(p.abs().sum() for p in net.parameters())\n",
    "        losses.append(l)\n",
    "        l+=lam*l1_norm\n",
    "        optimizer.zero_grad()\n",
    "        l.backward()\n",
    "        optimizer.step()\n",
    "    e_epoch=0\n",
    "    net.eval()\n",
    "    with torch.no_grad():\n",
    "        for x, y in validationloader:\n",
    "            out=torch.nn.functional.softmax(net(x), dim=1)\n",
    "            e_epoch+=loss(out, y, 10)\n",
    "    if epoch%k==0:\n",
    "        e_va.append(e_epoch)\n",
    "    if epoch>=k*s and np.all(np.diff(np.array(e_va[-s:]))>=0):\n",
    "        break\n",
    "plt.plot(losses)\n",
    "plt.xlabel(\"iteration\")\n",
    "plt.ylabel(\"loss\")\n",
    "plt.show()"
   ]
  },
  {
   "cell_type": "code",
   "execution_count": 8,
   "metadata": {},
   "outputs": [
    {
     "name": "stdout",
     "output_type": "stream",
     "text": [
      "Stopped at epoch:  40\n"
     ]
    }
   ],
   "source": [
    "print(\"Stopped at epoch: \", epoch)"
   ]
  },
  {
   "cell_type": "code",
   "execution_count": 9,
   "metadata": {},
   "outputs": [
    {
     "name": "stdout",
     "output_type": "stream",
     "text": [
      "Accuracy on validation set:  0.8436\n"
     ]
    }
   ],
   "source": [
    "net.eval()\n",
    "correct=0\n",
    "with torch.no_grad():\n",
    "    for x, y in validationloader:\n",
    "        out=net(x)\n",
    "        correct+=(torch.argmax(out, axis=1)==y).sum().item()\n",
    "print(\"Accuracy on validation set: \", correct/len(validationset))"
   ]
  },
  {
   "cell_type": "code",
   "execution_count": null,
   "metadata": {},
   "outputs": [],
   "source": []
  }
 ],
 "metadata": {
  "kernelspec": {
   "display_name": "Python 3",
   "language": "python",
   "name": "python3"
  },
  "language_info": {
   "codemirror_mode": {
    "name": "ipython",
    "version": 3
   },
   "file_extension": ".py",
   "mimetype": "text/x-python",
   "name": "python",
   "nbconvert_exporter": "python",
   "pygments_lexer": "ipython3",
   "version": "3.8.5"
  }
 },
 "nbformat": 4,
 "nbformat_minor": 4
}
