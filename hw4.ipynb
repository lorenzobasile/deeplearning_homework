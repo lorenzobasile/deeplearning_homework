{
 "cells": [
  {
   "cell_type": "code",
   "execution_count": 1,
   "metadata": {},
   "outputs": [],
   "source": [
    "import torch\n",
    "from torch import nn\n",
    "import torchvision\n",
    "from torchvision import transforms\n",
    "from matplotlib import pyplot as plt"
   ]
  },
  {
   "cell_type": "markdown",
   "metadata": {},
   "source": [
    "## Homework 4 - Achieving $\\sim 0$ training loss on MNIST\n",
    "*Lorenzo Basile*"
   ]
  },
  {
   "cell_type": "markdown",
   "metadata": {},
   "source": [
    "### 1\n",
    "The aim of this exercise is to obtain $\\sim 0$ training loss on MNIST using a MLP, without caring too much about overfitting and test performance. This is the reason for the relatively large batch size that I chose ($512$), which generally may not be the best to train a classifier since it favors overfitting instead of generalization."
   ]
  },
  {
   "cell_type": "code",
   "execution_count": 2,
   "metadata": {},
   "outputs": [],
   "source": [
    "trainset = torchvision.datasets.MNIST(\"./data/\", train = True, transform=transforms.ToTensor(), download = False)\n",
    "trainloader = torch.utils.data.DataLoader(trainset, batch_size=512, shuffle=True)\n",
    "\n",
    "testset = torchvision.datasets.MNIST(\"./data/\", train = False, transform=transforms.ToTensor(), download = False)\n",
    "testloader = torch.utils.data.DataLoader(testset, batch_size=512, shuffle=True)"
   ]
  },
  {
   "cell_type": "markdown",
   "metadata": {},
   "source": [
    "Even a very simple MLP with just one hidden layer can achieve perfect accuracy on the training data in a reasonable amount of time (around $20$ epochs)."
   ]
  },
  {
   "cell_type": "code",
   "execution_count": 3,
   "metadata": {},
   "outputs": [],
   "source": [
    "class NN(torch.nn.Module):\n",
    "    def __init__(self):\n",
    "        super().__init__()\n",
    "        self.layers = nn.Sequential(\n",
    "            nn.Linear(784, 64),\n",
    "            nn.ReLU(),\n",
    "            nn.BatchNorm1d(64),\n",
    "            nn.Linear(64, 10)\n",
    "        )\n",
    "    def forward(self, x):\n",
    "        return (self.layers(x.view(-1,784)))"
   ]
  },
  {
   "cell_type": "code",
   "execution_count": 4,
   "metadata": {},
   "outputs": [
    {
     "name": "stdout",
     "output_type": "stream",
     "text": [
      "Epoch:  20 / 20\r"
     ]
    },
    {
     "data": {
      "image/png": "[encoded data removed]",
      "text/plain": [
       "<Figure size 432x288 with 1 Axes>"
      ]
     },
     "metadata": {
      "needs_background": "light"
     },
     "output_type": "display_data"
    }
   ],
   "source": [
    "net=NN()\n",
    "n_epochs=20\n",
    "optimizer = torch.optim.Adam(net.parameters(), lr=0.01)\n",
    "scheduler = torch.optim.lr_scheduler.ExponentialLR(optimizer, gamma=0.9)\n",
    "loss = torch.nn.CrossEntropyLoss()\n",
    "losses=[]\n",
    "for epoch in range(n_epochs):\n",
    "    print(\"Epoch: \", epoch+1, '/', n_epochs, end='\\r')\n",
    "    net.train()\n",
    "    for x, y in trainloader:\n",
    "        out=net(x)\n",
    "        l=loss(out, y)\n",
    "        losses.append(l)\n",
    "        optimizer.zero_grad()\n",
    "        l.backward()\n",
    "        optimizer.step()\n",
    "    scheduler.step()\n",
    "plt.plot(losses)\n",
    "plt.xlabel(\"iteration\")\n",
    "plt.ylabel(\"loss\")\n",
    "plt.show()"
   ]
  },
  {
   "cell_type": "markdown",
   "metadata": {},
   "source": [
    "As expected, accuracy is $\\sim 100\\%$ on the training data. Moreover, even test set performance is decent, reaching $97.5\\%$. "
   ]
  },
  {
   "cell_type": "code",
   "execution_count": 5,
   "metadata": {},
   "outputs": [
    {
     "name": "stdout",
     "output_type": "stream",
     "text": [
      "Accuracy on training set:  0.9999833333333333\n",
      "Accuracy on test set:  0.9757\n"
     ]
    }
   ],
   "source": [
    "net.eval()\n",
    "correct=0\n",
    "with torch.no_grad():\n",
    "    for x, y in trainloader:\n",
    "        out=net(x)\n",
    "        correct+=(torch.argmax(out, axis=1)==y).sum().item()\n",
    "print(\"Accuracy on training set: \", correct/len(trainset))\n",
    "\n",
    "correct=0\n",
    "with torch.no_grad():\n",
    "    for x, y in testloader:\n",
    "        out=net(x)\n",
    "        correct+=(torch.argmax(out, axis=1)==y).sum().item()\n",
    "print(\"Accuracy on test set: \", correct/len(testset))"
   ]
  },
  {
   "cell_type": "markdown",
   "metadata": {},
   "source": [
    "### 2\n",
    "\n",
    "Things get more complicated if labels are permuted in the training set. Actually, one would probably expect the network not to converge at all, since images with the same labels now share no similarity whatsoever. However, if the network is sufficiently overparameterized, it is able to overfit to basically any data."
   ]
  },
  {
   "cell_type": "code",
   "execution_count": 6,
   "metadata": {},
   "outputs": [],
   "source": [
    "permuted_index = torch.randperm(len(trainset.targets))\n",
    "trainset.targets = trainset.targets[permuted_index]\n",
    "trainloader_permuted = torch.utils.data.DataLoader(trainset, batch_size=512, shuffle=True)"
   ]
  },
  {
   "cell_type": "markdown",
   "metadata": {},
   "source": [
    "To achieve $100\\%$ accuracy in this setting, a slightly more complex architecture is needed: this new MLP has two hidden layers, with $1024$ and $512$ neurons, and uses `LeakyReLU` activations instead of plain `ReLU` (the difference being that negative inputs are not transformed into $0$ but into very small negative values, according to a linear relation).\n",
    "\n",
    "In less than $100$ epochs this model reaches perfect accuracy on training data."
   ]
  },
  {
   "cell_type": "code",
   "execution_count": 7,
   "metadata": {},
   "outputs": [],
   "source": [
    "class NN(torch.nn.Module):\n",
    "    def __init__(self):\n",
    "        super().__init__()\n",
    "        self.layers = nn.Sequential(\n",
    "            nn.Linear(784, 1024),\n",
    "            nn.LeakyReLU(),\n",
    "            nn.BatchNorm1d(1024),\n",
    "            nn.Linear(1024, 512),\n",
    "            nn.LeakyReLU(),\n",
    "            nn.BatchNorm1d(512),\n",
    "            nn.Linear(512,10)\n",
    "        )\n",
    "    def forward(self, x):\n",
    "        return (self.layers(x.view(-1,784)))"
   ]
  },
  {
   "cell_type": "code",
   "execution_count": 8,
   "metadata": {},
   "outputs": [
    {
     "name": "stdout",
     "output_type": "stream",
     "text": [
      "Epoch:  100 / 100\r"
     ]
    },
    {
     "data": {
      "image/png": "[encoded data removed]",
      "text/plain": [
       "<Figure size 432x288 with 1 Axes>"
      ]
     },
     "metadata": {
      "needs_background": "light"
     },
     "output_type": "display_data"
    }
   ],
   "source": [
    "net=NN()\n",
    "optimizer = torch.optim.Adam(net.parameters(), lr=0.001)\n",
    "scheduler = torch.optim.lr_scheduler.ExponentialLR(optimizer, gamma=0.95)\n",
    "loss = torch.nn.CrossEntropyLoss()\n",
    "losses=[]\n",
    "for epoch in range(100):\n",
    "    print(\"Epoch: \", epoch+1, '/', 100, end='\\r')\n",
    "    net.train()\n",
    "    for x, y in trainloader_permuted:\n",
    "        out=net(x)\n",
    "        l=loss(out, y)\n",
    "        losses.append(l)\n",
    "        optimizer.zero_grad()\n",
    "        l.backward()\n",
    "        optimizer.step()\n",
    "    scheduler.step()\n",
    "plt.plot(losses)\n",
    "plt.xlabel(\"iteration\")\n",
    "plt.ylabel(\"loss\")\n",
    "plt.show()"
   ]
  },
  {
   "cell_type": "markdown",
   "metadata": {},
   "source": [
    "As expected, performance on training data (with permutations) is almost perfect ($99.99\\%$ accuracy). However, since the learning was done on randomly permuted labels, test set (without permutations) performance is not better than random classification ($\\sim 10\\%$ accuracy)."
   ]
  },
  {
   "cell_type": "code",
   "execution_count": 9,
   "metadata": {},
   "outputs": [
    {
     "name": "stdout",
     "output_type": "stream",
     "text": [
      "Accuracy on training set (with permuted labels):  0.9998666666666667\n",
      "Accuracy on test set (with original labels):  0.0979\n"
     ]
    }
   ],
   "source": [
    "net.eval()\n",
    "correct=0\n",
    "with torch.no_grad():\n",
    "    for x, y in trainloader_permuted:\n",
    "        out=net(x)\n",
    "        correct+=(torch.argmax(out, axis=1)==y).sum().item()\n",
    "print(\"Accuracy on training set (with permuted labels): \", correct/len(trainset))\n",
    "\n",
    "correct=0\n",
    "with torch.no_grad():\n",
    "    for x, y in testloader:\n",
    "        out=net(x)\n",
    "        correct+=(torch.argmax(out, axis=1)==y).sum().item()\n",
    "print(\"Accuracy on test set (with original labels): \", correct/len(testset))"
   ]
  },
  {
   "cell_type": "code",
   "execution_count": null,
   "metadata": {},
   "outputs": [],
   "source": []
  }
 ],
 "metadata": {
  "kernelspec": {
   "display_name": "Python 3",
   "language": "python",
   "name": "python3"
  },
  "language_info": {
   "codemirror_mode": {
    "name": "ipython",
    "version": 3
   },
   "file_extension": ".py",
   "mimetype": "text/x-python",
   "name": "python",
   "nbconvert_exporter": "python",
   "pygments_lexer": "ipython3",
   "version": "3.8.5"
  }
 },
 "nbformat": 4,
 "nbformat_minor": 4
}
