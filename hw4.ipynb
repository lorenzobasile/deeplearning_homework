{
 "cells": [
  {
   "cell_type": "code",
   "execution_count": 1,
   "metadata": {},
   "outputs": [],
   "source": [
    "import torch\n",
    "from torch import nn\n",
    "import torchvision\n",
    "from torchvision import transforms\n",
    "from matplotlib import pyplot as plt"
   ]
  },
  {
   "cell_type": "code",
   "execution_count": 2,
   "metadata": {},
   "outputs": [],
   "source": [
    "trainset = torchvision.datasets.MNIST(\"./data/\", train = True, transform=transforms.ToTensor(), download = False)\n",
    "trainloader = torch.utils.data.DataLoader(trainset, batch_size=512, shuffle=True)\n",
    "\n",
    "testset = torchvision.datasets.MNIST(\"./data/\", train = False, transform=transforms.ToTensor(), download = False)\n",
    "testloader = torch.utils.data.DataLoader(testset, batch_size=512, shuffle=True)"
   ]
  },
  {
   "cell_type": "code",
   "execution_count": 3,
   "metadata": {},
   "outputs": [],
   "source": [
    "class NN(torch.nn.Module):\n",
    "    def __init__(self):\n",
    "        super().__init__()\n",
    "        self.layers = nn.Sequential(\n",
    "            nn.Linear(784, 64),\n",
    "            nn.ReLU(),\n",
    "            nn.BatchNorm1d(64),\n",
    "            nn.Linear(64, 10)\n",
    "        )\n",
    "    def forward(self, x):\n",
    "        return (self.layers(x.view(-1,784)))"
   ]
  },
  {
   "cell_type": "code",
   "execution_count": 4,
   "metadata": {},
   "outputs": [
    {
     "name": "stdout",
     "output_type": "stream",
     "text": [
      "Epoch:  49 / 50\r"
     ]
    },
    {
     "data": {
      "image/png": "[encoded data removed]",
      "text/plain": [
       "<Figure size 432x288 with 1 Axes>"
      ]
     },
     "metadata": {
      "needs_background": "light"
     },
     "output_type": "display_data"
    }
   ],
   "source": [
    "net=NN()\n",
    "n_epochs=50\n",
    "optimizer = torch.optim.Adam(net.parameters(), lr=0.01)\n",
    "scheduler = torch.optim.lr_scheduler.ExponentialLR(optimizer, gamma=0.9)\n",
    "loss = torch.nn.CrossEntropyLoss()\n",
    "losses=[]\n",
    "for epoch in range(n_epochs):\n",
    "    print(\"Epoch: \", epoch, '/', n_epochs, end='\\r')\n",
    "    net.train()\n",
    "    for x, y in trainloader:\n",
    "        out=net(x)\n",
    "        l=loss(out, y)\n",
    "        losses.append(l)\n",
    "        optimizer.zero_grad()\n",
    "        l.backward()\n",
    "        optimizer.step()\n",
    "    scheduler.step()\n",
    "plt.plot(losses)\n",
    "plt.xlabel(\"iteration\")\n",
    "plt.ylabel(\"loss\")\n",
    "plt.show()"
   ]
  },
  {
   "cell_type": "code",
   "execution_count": 5,
   "metadata": {},
   "outputs": [
    {
     "name": "stdout",
     "output_type": "stream",
     "text": [
      "Accuracy on training set:  1.0\n",
      "Accuracy on test set:  0.9767\n"
     ]
    }
   ],
   "source": [
    "net.eval()\n",
    "correct=0\n",
    "with torch.no_grad():\n",
    "    for x, y in trainloader:\n",
    "        out=net(x)\n",
    "        correct+=(torch.argmax(out, axis=1)==y).sum().item()\n",
    "print(\"Accuracy on training set: \", correct/len(trainset))\n",
    "\n",
    "correct=0\n",
    "with torch.no_grad():\n",
    "    for x, y in testloader:\n",
    "        out=net(x)\n",
    "        correct+=(torch.argmax(out, axis=1)==y).sum().item()\n",
    "print(\"Accuracy on test set: \", correct/len(testset))"
   ]
  },
  {
   "cell_type": "code",
   "execution_count": 6,
   "metadata": {},
   "outputs": [],
   "source": [
    "permuted_index = torch.randperm(len(trainset.targets))\n",
    "trainset.targets = trainset.targets[permuted_index]\n",
    "trainloader_permuted = torch.utils.data.DataLoader(trainset, batch_size=512, shuffle=True)"
   ]
  },
  {
   "cell_type": "code",
   "execution_count": 7,
   "metadata": {},
   "outputs": [],
   "source": [
    "class NN(torch.nn.Module):\n",
    "    def __init__(self):\n",
    "        super().__init__()\n",
    "        self.layers = nn.Sequential(\n",
    "            nn.Linear(784, 1024),\n",
    "            nn.LeakyReLU(),\n",
    "            nn.BatchNorm1d(1024),\n",
    "            nn.Linear(1024, 512),\n",
    "            nn.LeakyReLU(),\n",
    "            nn.BatchNorm1d(512),\n",
    "            nn.Linear(512,10)\n",
    "        )\n",
    "    def forward(self, x):\n",
    "        return (self.layers(x.view(-1,784)))"
   ]
  },
  {
   "cell_type": "code",
   "execution_count": 8,
   "metadata": {},
   "outputs": [
    {
     "name": "stdout",
     "output_type": "stream",
     "text": [
      "Accuracy on train set:  0.1323\n",
      "tensor(2.3723, grad_fn=<NllLossBackward>)\n",
      "Accuracy on train set:  0.15223333333333333\n",
      "Accuracy on train set:  0.16558333333333333\n",
      "Accuracy on train set:  0.17433333333333334\n",
      "Accuracy on train set:  0.18933333333333333\n",
      "Accuracy on train set:  0.213\n",
      "Accuracy on train set:  0.23548333333333332\n",
      "Accuracy on train set:  0.2687833333333333\n",
      "Accuracy on train set:  0.2926166666666667\n",
      "Accuracy on train set:  0.3274\n",
      "Accuracy on train set:  0.38145\n",
      "tensor(2.0394, grad_fn=<NllLossBackward>)\n",
      "Accuracy on train set:  0.4196166666666667\n",
      "Accuracy on train set:  0.46486666666666665\n",
      "Accuracy on train set:  0.5106\n",
      "Accuracy on train set:  0.5623833333333333\n",
      "Accuracy on train set:  0.6215166666666667\n",
      "Accuracy on train set:  0.6757833333333333\n",
      "Accuracy on train set:  0.71835\n",
      "Accuracy on train set:  0.7566\n",
      "Accuracy on train set:  0.7934333333333333\n",
      "Accuracy on train set:  0.8255666666666667\n",
      "tensor(1.0092, grad_fn=<NllLossBackward>)\n",
      "Accuracy on train set:  0.8633833333333333\n",
      "Accuracy on train set:  0.8847333333333334\n",
      "Accuracy on train set:  0.9093\n",
      "Accuracy on train set:  0.9185666666666666\n",
      "Accuracy on train set:  0.9312333333333334\n",
      "Accuracy on train set:  0.94355\n",
      "Accuracy on train set:  0.9500666666666666\n",
      "Accuracy on train set:  0.95535\n",
      "Accuracy on train set:  0.9588833333333333\n",
      "Accuracy on train set:  0.9630833333333333\n",
      "tensor(0.3393, grad_fn=<NllLossBackward>)\n",
      "Accuracy on train set:  0.9662666666666667\n",
      "Accuracy on train set:  0.9695\n",
      "Accuracy on train set:  0.97155\n",
      "Accuracy on train set:  0.9752\n",
      "Accuracy on train set:  0.9772666666666666\n",
      "Accuracy on train set:  0.9783833333333334\n",
      "Accuracy on train set:  0.9814333333333334\n",
      "Accuracy on train set:  0.9831666666666666\n",
      "Accuracy on train set:  0.9835666666666667\n",
      "Accuracy on train set:  0.9865333333333334\n",
      "tensor(0.2588, grad_fn=<NllLossBackward>)\n",
      "Accuracy on train set:  0.98795\n",
      "Accuracy on train set:  0.9886666666666667\n",
      "Accuracy on train set:  0.9903333333333333\n",
      "Accuracy on train set:  0.9912833333333333\n",
      "Accuracy on train set:  0.9921\n",
      "Accuracy on train set:  0.99335\n",
      "Accuracy on train set:  0.99375\n",
      "Accuracy on train set:  0.9944666666666667\n",
      "Accuracy on train set:  0.9955833333333334\n",
      "Accuracy on train set:  0.9958833333333333\n",
      "tensor(0.1471, grad_fn=<NllLossBackward>)\n",
      "Accuracy on train set:  0.9965833333333334\n",
      "Accuracy on train set:  0.9967666666666667\n",
      "Accuracy on train set:  0.9972\n",
      "Accuracy on train set:  0.9970666666666667\n",
      "Accuracy on train set:  0.9979\n",
      "Accuracy on train set:  0.99785\n",
      "Accuracy on train set:  0.9982166666666666\n",
      "Accuracy on train set:  0.9985166666666667\n",
      "Accuracy on train set:  0.99845\n",
      "Accuracy on train set:  0.9988\n",
      "tensor(0.2248, grad_fn=<NllLossBackward>)\n",
      "Accuracy on train set:  0.9988666666666667\n",
      "Accuracy on train set:  0.9990166666666667\n",
      "Accuracy on train set:  0.9991666666666666\n",
      "Accuracy on train set:  0.9991333333333333\n",
      "Accuracy on train set:  0.9993166666666666\n",
      "Accuracy on train set:  0.9993833333333333\n",
      "Accuracy on train set:  0.9993833333333333\n",
      "Accuracy on train set:  0.99935\n",
      "Accuracy on train set:  0.9994333333333333\n",
      "Accuracy on train set:  0.9994666666666666\n",
      "tensor(0.1468, grad_fn=<NllLossBackward>)\n",
      "Accuracy on train set:  0.9995\n",
      "Accuracy on train set:  0.9996\n",
      "Accuracy on train set:  0.9996833333333334\n",
      "Accuracy on train set:  0.9996166666666667\n",
      "Accuracy on train set:  0.9996833333333334\n",
      "Accuracy on train set:  0.99965\n",
      "Accuracy on train set:  0.9998\n",
      "Accuracy on train set:  0.9997333333333334\n",
      "Accuracy on train set:  0.9998\n",
      "Accuracy on train set:  0.9998166666666667\n",
      "tensor(0.1644, grad_fn=<NllLossBackward>)\n",
      "Accuracy on train set:  0.9998166666666667\n",
      "Accuracy on train set:  0.9998\n",
      "Accuracy on train set:  0.9998\n",
      "Accuracy on train set:  0.9998166666666667\n",
      "Accuracy on train set:  0.9999\n",
      "Accuracy on train set:  0.9998666666666667\n",
      "Accuracy on train set:  0.99985\n",
      "Accuracy on train set:  0.9998333333333334\n",
      "Accuracy on train set:  0.9998833333333333\n",
      "Accuracy on train set:  0.99985\n",
      "tensor(0.1697, grad_fn=<NllLossBackward>)\n",
      "Accuracy on train set:  0.9998833333333333\n",
      "Accuracy on train set:  0.9999166666666667\n",
      "Accuracy on train set:  0.9999\n",
      "Accuracy on train set:  0.9999166666666667\n",
      "Accuracy on train set:  0.9999166666666667\n",
      "Accuracy on train set:  0.9999166666666667\n",
      "Accuracy on train set:  0.9998666666666667\n",
      "Accuracy on train set:  0.9999166666666667\n",
      "Accuracy on train set:  0.9999166666666667\n"
     ]
    },
    {
     "data": {
      "image/png": "[encoded data removed]",
      "text/plain": [
       "<Figure size 432x288 with 1 Axes>"
      ]
     },
     "metadata": {
      "needs_background": "light"
     },
     "output_type": "display_data"
    }
   ],
   "source": [
    "net=NN()\n",
    "optimizer = torch.optim.Adam(net.parameters(), lr=0.001)\n",
    "scheduler = torch.optim.lr_scheduler.ExponentialLR(optimizer, gamma=0.95)\n",
    "loss = torch.nn.CrossEntropyLoss()\n",
    "losses=[]\n",
    "for epoch in range(100):\n",
    "    print(\"Epoch: \", epoch, '/', 100, end='\\r')\n",
    "    net.train()\n",
    "    for x, y in trainloader:\n",
    "        out=net(x)\n",
    "        l=loss(out, y)\n",
    "        losses.append(l)\n",
    "        optimizer.zero_grad()\n",
    "        l.backward()\n",
    "        optimizer.step()\n",
    "    scheduler.step()\n",
    "    net.eval()\n",
    "    correct=0\n",
    "    with torch.no_grad():\n",
    "        for x, y in trainloader:\n",
    "            out=net(x)\n",
    "            correct+=(torch.argmax(out, axis=1)==y).sum().item()\n",
    "    print(\"Accuracy on train set: \", correct/len(trainset))\n",
    "    if epoch%10==0:\n",
    "        print(l)\n",
    "plt.plot(losses)\n",
    "plt.xlabel(\"iteration\")\n",
    "plt.ylabel(\"loss\")\n",
    "plt.show()"
   ]
  },
  {
   "cell_type": "code",
   "execution_count": 9,
   "metadata": {},
   "outputs": [
    {
     "name": "stdout",
     "output_type": "stream",
     "text": [
      "Accuracy on training set (with permuted labels):  0.9999166666666667\n",
      "Accuracy on test set (with original labels):  0.0964\n"
     ]
    }
   ],
   "source": [
    "net.eval()\n",
    "correct=0\n",
    "with torch.no_grad():\n",
    "    for x, y in trainloader:\n",
    "        out=net(x)\n",
    "        correct+=(torch.argmax(out, axis=1)==y).sum().item()\n",
    "print(\"Accuracy on training set (with permuted labels): \", correct/len(trainset))\n",
    "\n",
    "correct=0\n",
    "with torch.no_grad():\n",
    "    for x, y in testloader:\n",
    "        out=net(x)\n",
    "        correct+=(torch.argmax(out, axis=1)==y).sum().item()\n",
    "print(\"Accuracy on test set (with original labels): \", correct/len(testset))"
   ]
  },
  {
   "cell_type": "code",
   "execution_count": null,
   "metadata": {},
   "outputs": [],
   "source": []
  }
 ],
 "metadata": {
  "kernelspec": {
   "display_name": "Python 3",
   "language": "python",
   "name": "python3"
  },
  "language_info": {
   "codemirror_mode": {
    "name": "ipython",
    "version": 3
   },
   "file_extension": ".py",
   "mimetype": "text/x-python",
   "name": "python",
   "nbconvert_exporter": "python",
   "pygments_lexer": "ipython3",
   "version": "3.8.5"
  }
 },
 "nbformat": 4,
 "nbformat_minor": 4
}
