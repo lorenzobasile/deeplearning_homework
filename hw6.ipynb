{
 "cells": [
  {
   "cell_type": "code",
   "execution_count": 1,
   "metadata": {},
   "outputs": [],
   "source": [
    "import torch\n",
    "from torch import nn\n",
    "from torchvision import transforms"
   ]
  },
  {
   "cell_type": "markdown",
   "metadata": {},
   "source": [
    "## Homework 6 - U-Net\n",
    "*Lorenzo Basile*"
   ]
  },
  {
   "cell_type": "code",
   "execution_count": 2,
   "metadata": {},
   "outputs": [],
   "source": [
    "#Original UNet architecture\n",
    "class contracting_module(torch.nn.Module):\n",
    "        \n",
    "    def __init__(self, index):\n",
    "        super().__init__()\n",
    "        self.output_channels=2**(6+index)\n",
    "        self.layers=nn.Sequential(\n",
    "            nn.MaxPool2d(kernel_size=2) if index!=0 else nn.Identity(),\n",
    "            nn.Conv2d(in_channels=1 if index==0 else self.output_channels//2, out_channels=self.output_channels, kernel_size=3, stride=1),\n",
    "            nn.ReLU(),\n",
    "            nn.Conv2d(in_channels=self.output_channels, out_channels=self.output_channels, kernel_size=3, stride=1),\n",
    "            nn.ReLU()\n",
    "        )\n",
    "    \n",
    "    def forward(self, x):\n",
    "        return self.layers(x)\n",
    "\n",
    "class expanding_module(torch.nn.Module):\n",
    "        \n",
    "    def __init__(self, index):\n",
    "        super().__init__()\n",
    "        self.output_channels=2**(6+index)\n",
    "        self.upsampling=nn.ConvTranspose2d(in_channels=self.output_channels*2, out_channels=self.output_channels, kernel_size=2, stride=2)\n",
    "        self.layers=nn.Sequential(\n",
    "            nn.Conv2d(in_channels=self.output_channels*2, out_channels=self.output_channels, kernel_size=3, stride=1),\n",
    "            nn.ReLU(),\n",
    "            nn.Conv2d(in_channels=self.output_channels, out_channels=self.output_channels, kernel_size=3, stride=1),\n",
    "            nn.ReLU()\n",
    "        )\n",
    "    \n",
    "    def forward(self, x, copy):\n",
    "        x=self.upsampling(x)\n",
    "        cropped_copy=transforms.CenterCrop(size=x.shape[-1])(copy)\n",
    "        x=torch.cat([cropped_copy, x], dim=1)\n",
    "        return self.layers(x)\n",
    "\n",
    "class UNet(torch.nn.Module):\n",
    "    \n",
    "    def __init__(self):\n",
    "        super().__init__()\n",
    "        self.cm0=contracting_module(0)\n",
    "        self.cm1=contracting_module(1)\n",
    "        self.cm2=contracting_module(2)\n",
    "        self.cm3=contracting_module(3)\n",
    "        self.cm4=contracting_module(4)\n",
    "        self.em0=expanding_module(0)\n",
    "        self.em1=expanding_module(1)\n",
    "        self.em2=expanding_module(2)\n",
    "        self.em3=expanding_module(3)\n",
    "        self.final_layer=nn.Conv2d(in_channels=64, out_channels=2, kernel_size=1)\n",
    "    def forward(self, x):\n",
    "        copy_0=self.cm0(x)\n",
    "        x=copy_0\n",
    "        copy_1=self.cm1(x)\n",
    "        x=copy_1\n",
    "        copy_2=self.cm2(x)\n",
    "        x=copy_2\n",
    "        copy_3=self.cm3(x)\n",
    "        x=copy_3\n",
    "        x=self.cm4(x)\n",
    "        x=self.em3(x, copy_3)\n",
    "        x=self.em2(x, copy_2)\n",
    "        x=self.em1(x, copy_1)\n",
    "        x=self.em0(x, copy_0)\n",
    "        x=self.final_layer(x)\n",
    "        return x"
   ]
  },
  {
   "cell_type": "code",
   "execution_count": 3,
   "metadata": {},
   "outputs": [
    {
     "name": "stdout",
     "output_type": "stream",
     "text": [
      "torch.Size([1, 1, 512, 512])\n",
      "torch.Size([1, 2, 324, 324])\n"
     ]
    }
   ],
   "source": [
    "net=UNet()\n",
    "input=torch.rand((1,1,512,512))\n",
    "print(input.shape)\n",
    "print(net(input).shape)"
   ]
  },
  {
   "cell_type": "code",
   "execution_count": 4,
   "metadata": {},
   "outputs": [],
   "source": [
    "#Requested architecture\n",
    "class contracting_module(torch.nn.Module):\n",
    "        \n",
    "    def __init__(self, index):\n",
    "        super().__init__()\n",
    "        self.output_channels=2**(6+index)\n",
    "        self.layers=nn.Sequential(\n",
    "            nn.MaxPool2d(kernel_size=2) if index!=0 else nn.Identity(),\n",
    "            nn.Conv2d(in_channels=1 if index==0 else self.output_channels//2, out_channels=self.output_channels, kernel_size=3, stride=1, padding=1),\n",
    "            nn.ReLU(),\n",
    "            nn.Conv2d(in_channels=self.output_channels, out_channels=self.output_channels, kernel_size=3, stride=1, padding=1),\n",
    "            nn.ReLU()\n",
    "        )\n",
    "    \n",
    "    def forward(self, x):\n",
    "        return self.layers(x)\n",
    "\n",
    "class expanding_module(torch.nn.Module):\n",
    "        \n",
    "    def __init__(self, index):\n",
    "        super().__init__()\n",
    "        self.output_channels=2**(6+index)\n",
    "        self.upsampling=nn.ConvTranspose2d(in_channels=self.output_channels*2, out_channels=self.output_channels, kernel_size=2, stride=2)\n",
    "        self.layers=nn.Sequential(\n",
    "            nn.Conv2d(in_channels=self.output_channels*2, out_channels=self.output_channels, kernel_size=3, stride=1, padding=1),\n",
    "            nn.ReLU(),\n",
    "            nn.Conv2d(in_channels=self.output_channels, out_channels=self.output_channels, kernel_size=3, stride=1, padding=1),\n",
    "            nn.ReLU()\n",
    "        )\n",
    "    \n",
    "    def forward(self, x, copy):\n",
    "        x=self.upsampling(x)\n",
    "        cropped_copy=transforms.CenterCrop(size=x.shape[-1])(copy)\n",
    "        x=torch.cat([cropped_copy, x], dim=1)\n",
    "        return self.layers(x)\n",
    "\n",
    "class UNet(torch.nn.Module):\n",
    "    \n",
    "    def __init__(self):\n",
    "        super().__init__()\n",
    "        self.cm0=contracting_module(0)\n",
    "        self.cm1=contracting_module(1)\n",
    "        self.cm2=contracting_module(2)\n",
    "        self.cm3=contracting_module(3)\n",
    "        self.cm4=contracting_module(4)\n",
    "        self.em0=expanding_module(0)\n",
    "        self.em1=expanding_module(1)\n",
    "        self.em2=expanding_module(2)\n",
    "        self.em3=expanding_module(3)\n",
    "        self.final_layer=nn.Conv2d(in_channels=64, out_channels=1, kernel_size=1)\n",
    "    def forward(self, x):\n",
    "        copy_0=self.cm0(x)\n",
    "        x=copy_0\n",
    "        copy_1=self.cm1(x)\n",
    "        x=copy_1\n",
    "        copy_2=self.cm2(x)\n",
    "        x=copy_2\n",
    "        copy_3=self.cm3(x)\n",
    "        x=copy_3\n",
    "        x=self.cm4(x)\n",
    "        x=self.em3(x, copy_3)\n",
    "        x=self.em2(x, copy_2)\n",
    "        x=self.em1(x, copy_1)\n",
    "        x=self.em0(x, copy_0)\n",
    "        x=self.final_layer(x)\n",
    "        return x"
   ]
  },
  {
   "cell_type": "code",
   "execution_count": 5,
   "metadata": {},
   "outputs": [
    {
     "name": "stdout",
     "output_type": "stream",
     "text": [
      "torch.Size([1, 1, 512, 512])\n",
      "torch.Size([1, 1, 512, 512])\n"
     ]
    }
   ],
   "source": [
    "net=UNet()\n",
    "input=torch.rand((1,1,512,512))\n",
    "print(input.shape)\n",
    "print(net(input).shape)"
   ]
  },
  {
   "cell_type": "code",
   "execution_count": null,
   "metadata": {},
   "outputs": [],
   "source": []
  }
 ],
 "metadata": {
  "kernelspec": {
   "display_name": "Python 3",
   "language": "python",
   "name": "python3"
  },
  "language_info": {
   "codemirror_mode": {
    "name": "ipython",
    "version": 3
   },
   "file_extension": ".py",
   "mimetype": "text/x-python",
   "name": "python",
   "nbconvert_exporter": "python",
   "pygments_lexer": "ipython3",
   "version": "3.8.5"
  }
 },
 "nbformat": 4,
 "nbformat_minor": 4
}
