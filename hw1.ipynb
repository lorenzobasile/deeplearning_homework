{
 "cells": [
  {
   "cell_type": "code",
   "execution_count": 1,
   "metadata": {},
   "outputs": [],
   "source": [
    "import torch\n",
    "from torch import nn\n",
    "import torch.nn.functional as F"
   ]
  },
  {
   "cell_type": "markdown",
   "metadata": {},
   "source": [
    "## Homework 1 - PyTorch basics\n",
    "*Lorenzo Basile*"
   ]
  },
  {
   "cell_type": "markdown",
   "metadata": {},
   "source": [
    "#### 1, 2"
   ]
  },
  {
   "cell_type": "code",
   "execution_count": 2,
   "metadata": {},
   "outputs": [],
   "source": [
    "class MLP(torch.nn.Module):\n",
    "    def __init__(self):\n",
    "        super().__init__()\n",
    "        self.layer1 = nn.Linear(in_features=5, out_features=11, bias=False)\n",
    "        self.layer2 = nn.Linear(in_features=11, out_features=16, bias=False)\n",
    "        self.layer3 = nn.Linear(in_features=16, out_features=13, bias=False)\n",
    "        self.layer4 = nn.Linear(in_features=13, out_features=8, bias=False)\n",
    "        self.layer5 = nn.Linear(in_features=8, out_features=4, bias=False)\n",
    "    def forward(self, x):\n",
    "        out = F.relu(self.layer1(x))\n",
    "        out = F.relu(self.layer2(out))\n",
    "        out = F.relu(self.layer3(out))\n",
    "        out = F.relu(self.layer4(out))\n",
    "        return F.softmax(self.layer5(out))"
   ]
  },
  {
   "cell_type": "code",
   "execution_count": 3,
   "metadata": {},
   "outputs": [
    {
     "name": "stdout",
     "output_type": "stream",
     "text": [
      "Number of parameters:  575\n",
      "MLP(\n",
      "  (layer1): Linear(in_features=5, out_features=11, bias=False)\n",
      "  (layer2): Linear(in_features=11, out_features=16, bias=False)\n",
      "  (layer3): Linear(in_features=16, out_features=13, bias=False)\n",
      "  (layer4): Linear(in_features=13, out_features=8, bias=False)\n",
      "  (layer5): Linear(in_features=8, out_features=4, bias=False)\n",
      ")\n"
     ]
    }
   ],
   "source": [
    "net=MLP()\n",
    "print(\"Number of parameters: \", sum(p.numel() for p in net.parameters()))\n",
    "print(net)"
   ]
  },
  {
   "cell_type": "markdown",
   "metadata": {},
   "source": [
    "#### 3 \n",
    "\n",
    "In a MLP, if biases are not present, the number of parameters (weights) for layer $k$ ($k\\neq 0$) is $N_{k-1}\\cdot N_k$.\n",
    "\n",
    "So, since the layers have sizes $N=[5, 11, 16, 13, 8, 4]$ the total parameters are:\n",
    "$$\n",
    "\\#weights=5\\cdot 11 + 11 \\cdot 16 + 16 \\cdot 13 + 13 \\cdot 8 + 8 \\cdot 4 = 575\n",
    "$$\n",
    "\n",
    "The introduction of biases in all layers would lead to an increase in the number of parameters by a quantity equal to the total number of neurons in the MLP (excluding input neurons).\n",
    "So, the total number of parameters would become:\n",
    "$$\n",
    "\\#params=\\#weights+11+16+13+8+4=627\n",
    "$$"
   ]
  },
  {
   "cell_type": "markdown",
   "metadata": {},
   "source": [
    "#### 4"
   ]
  },
  {
   "cell_type": "code",
   "execution_count": 4,
   "metadata": {},
   "outputs": [
    {
     "name": "stdout",
     "output_type": "stream",
     "text": [
      "L2 norm:  1.0347769260406494 \tL1 norm:  2.8456742763519287\n",
      "L2 norm:  1.152815818786621 \tL1 norm:  2.885632276535034\n",
      "L2 norm:  0.9466050863265991 \tL1 norm:  2.120694160461426\n",
      "L2 norm:  0.9534114003181458 \tL1 norm:  1.3947560787200928\n",
      "L2 norm:  0.7872990369796753 \tL1 norm:  0.8854895830154419\n"
     ]
    }
   ],
   "source": [
    "for p in net.parameters():\n",
    "    print (\"L2 norm: \", torch.linalg.norm(p.detach(), 2).item(), \"\\tL1 norm: \", torch.linalg.norm(p.detach(), 1).item())"
   ]
  }
 ],
 "metadata": {
  "kernelspec": {
   "display_name": "Python 3",
   "language": "python",
   "name": "python3"
  },
  "language_info": {
   "codemirror_mode": {
    "name": "ipython",
    "version": 3
   },
   "file_extension": ".py",
   "mimetype": "text/x-python",
   "name": "python",
   "nbconvert_exporter": "python",
   "pygments_lexer": "ipython3",
   "version": "3.8.5"
  }
 },
 "nbformat": 4,
 "nbformat_minor": 4
}
