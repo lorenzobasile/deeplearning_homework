{
 "cells": [
  {
   "cell_type": "code",
   "execution_count": 1,
   "metadata": {},
   "outputs": [],
   "source": [
    "import torch\n",
    "from torch import nn\n",
    "import torchvision\n",
    "from torchvision import transforms\n",
    "from matplotlib import pyplot as plt"
   ]
  },
  {
   "cell_type": "markdown",
   "metadata": {},
   "source": [
    "## Homework 5 - Pruning\n",
    "*Lorenzo Basile*"
   ]
  },
  {
   "cell_type": "code",
   "execution_count": 2,
   "metadata": {},
   "outputs": [],
   "source": [
    "trainset = torchvision.datasets.MNIST(\"./data/\", train = True, transform=transforms.ToTensor(), download = False)\n",
    "trainloader = torch.utils.data.DataLoader(trainset, batch_size=64, shuffle=True)\n",
    "\n",
    "testset = torchvision.datasets.MNIST(\"./data/\", train = False, transform=transforms.ToTensor(), download = False)\n",
    "testloader = torch.utils.data.DataLoader(testset, batch_size=512, shuffle=False)"
   ]
  },
  {
   "cell_type": "code",
   "execution_count": 3,
   "metadata": {},
   "outputs": [],
   "source": [
    "class NN(torch.nn.Module):\n",
    "    def __init__(self):\n",
    "        super().__init__()\n",
    "        self.layers = nn.Sequential(\n",
    "            nn.Linear(784, 64),\n",
    "            nn.ReLU(),\n",
    "            nn.BatchNorm1d(64),\n",
    "            nn.Linear(64, 32),\n",
    "            nn.ReLU(),\n",
    "            nn.BatchNorm1d(32),\n",
    "            nn.Linear(32, 10)\n",
    "        )\n",
    "    def forward(self, x):\n",
    "        return (self.layers(x.view(-1,784)))"
   ]
  },
  {
   "cell_type": "code",
   "execution_count": 4,
   "metadata": {},
   "outputs": [
    {
     "name": "stdout",
     "output_type": "stream",
     "text": [
      "Epoch:  5 / 5\r"
     ]
    },
    {
     "data": {
      "image/png": "[encoded data removed]",
      "text/plain": [
       "<Figure size 432x288 with 1 Axes>"
      ]
     },
     "metadata": {
      "needs_background": "light"
     },
     "output_type": "display_data"
    }
   ],
   "source": [
    "net=NN()\n",
    "n_epochs=5\n",
    "optimizer = torch.optim.Adam(net.parameters(), lr=0.01)\n",
    "scheduler = torch.optim.lr_scheduler.ExponentialLR(optimizer, gamma=0.9)\n",
    "loss = torch.nn.CrossEntropyLoss()\n",
    "losses=[]\n",
    "for epoch in range(n_epochs):\n",
    "    print(\"Epoch: \", epoch+1, '/', n_epochs, end='\\r')\n",
    "    net.train()\n",
    "    for x, y in trainloader:\n",
    "        out=net(x)\n",
    "        l=loss(out, y)\n",
    "        losses.append(l)\n",
    "        optimizer.zero_grad()\n",
    "        l.backward()\n",
    "        optimizer.step()\n",
    "    scheduler.step()\n",
    "plt.plot(losses)\n",
    "plt.xlabel(\"iteration\")\n",
    "plt.ylabel(\"loss\")\n",
    "plt.show()"
   ]
  },
  {
   "cell_type": "code",
   "execution_count": 5,
   "metadata": {},
   "outputs": [
    {
     "name": "stdout",
     "output_type": "stream",
     "text": [
      "Accuracy on test set:  0.9726\n"
     ]
    }
   ],
   "source": [
    "net.eval()\n",
    "correct=0\n",
    "with torch.no_grad():\n",
    "    for x, y in testloader:\n",
    "        out=net(x)\n",
    "        correct+=(torch.argmax(out, axis=1)==y).sum().item()\n",
    "print(\"Accuracy on test set: \", correct/len(testset))"
   ]
  },
  {
   "cell_type": "markdown",
   "metadata": {},
   "source": [
    "The next function is a (minimally) modified version of the one presented during the lab: incremental pruning is allowed by only computing the threshold over nonzero weights of the network.  "
   ]
  },
  {
   "cell_type": "code",
   "execution_count": 6,
   "metadata": {},
   "outputs": [],
   "source": [
    "def magnitude_pruning(model, pruning_rate, layers_to_prune=[\"0\", \"3\", \"6\"]):\n",
    "    \n",
    "    params_to_prune = [pars[1] for pars in model.named_parameters() if any([l in pars[0] for l in layers_to_prune])]\n",
    "    flat = torch.cat([params.abs().flatten() for params in params_to_prune], dim=0)\n",
    "\n",
    "    flat = flat[flat>0].sort()[0] #only modification to lab code\n",
    "\n",
    "    position = int(pruning_rate * flat.shape[0])\n",
    "    thresh = flat[position]\n",
    "\n",
    "    mask = []\n",
    "    for pars in model.named_parameters():\n",
    "        if any([l in pars[0] for l in layers_to_prune]):\n",
    "            m = torch.where(pars[1].abs() >= thresh, 1, 0)\n",
    "            mask.append(m)\n",
    "            pars[1].data *= m\n",
    "        else:\n",
    "            mask.append(torch.ones_like(pars[1]))\n",
    "    return mask\n",
    "\n",
    "def number_of_ones_in_mask(mask):\n",
    "    return sum([m.sum().item() for m in mask]) / sum([m.numel() for m in mask])"
   ]
  },
  {
   "cell_type": "markdown",
   "metadata": {},
   "source": [
    "This implementation does not really *use* the mask to allow iterative pruning and it may happen that weights that are set to $0$ by optimization (not by pruning) are mistakenly considered as pruned. However, I chose to use it because:\n",
    "- this event should happen very rarely (with probability $\\sim 0$);\n",
    "- it produces very clean code;\n",
    "- it supports the kind of behaviour displayed in the next cell, which I think is a reasonable way to apply incremental pruning."
   ]
  },
  {
   "cell_type": "code",
   "execution_count": 7,
   "metadata": {},
   "outputs": [
    {
     "name": "stdout",
     "output_type": "stream",
     "text": [
      "Number of ones in mask: 0.8007266946746906 \n",
      "\n",
      "Number of ones in mask: 0.641308050414443 \n",
      "\n",
      "Number of ones in mask: 0.5137769198743424 \n",
      "\n"
     ]
    }
   ],
   "source": [
    "mask = magnitude_pruning(net, .2, layers_to_prune=[\"0\", \"3\", \"6\"])\n",
    "print(\"Number of ones in mask:\", number_of_ones_in_mask(mask), \"\\n\")\n",
    "mask = magnitude_pruning(net, .2, layers_to_prune=[\"0\", \"3\", \"6\"])\n",
    "print(\"Number of ones in mask:\", number_of_ones_in_mask(mask), \"\\n\")\n",
    "mask = magnitude_pruning(net, .2, layers_to_prune=[\"0\", \"3\", \"6\"])\n",
    "print(\"Number of ones in mask:\", number_of_ones_in_mask(mask), \"\\n\")"
   ]
  },
  {
   "cell_type": "code",
   "execution_count": 8,
   "metadata": {},
   "outputs": [
    {
     "name": "stdout",
     "output_type": "stream",
     "text": [
      "Accuracy on test set:  0.9665\n"
     ]
    }
   ],
   "source": [
    "net.eval()\n",
    "correct=0\n",
    "with torch.no_grad():\n",
    "    for x, y in testloader:\n",
    "        out=net(x)\n",
    "        correct+=(torch.argmax(out, axis=1)==y).sum().item()\n",
    "print(\"Accuracy on test set: \", correct/len(testset))"
   ]
  }
 ],
 "metadata": {
  "kernelspec": {
   "display_name": "Python 3",
   "language": "python",
   "name": "python3"
  },
  "language_info": {
   "codemirror_mode": {
    "name": "ipython",
    "version": 3
   },
   "file_extension": ".py",
   "mimetype": "text/x-python",
   "name": "python",
   "nbconvert_exporter": "python",
   "pygments_lexer": "ipython3",
   "version": "3.8.5"
  }
 },
 "nbformat": 4,
 "nbformat_minor": 4
}
